{
 "cells": [
  {
   "cell_type": "code",
   "execution_count": 30,
   "metadata": {},
   "outputs": [],
   "source": [
    "## Merge Sort\n",
    "to_sort = [5,4,34,43,9,1,90,87,456,0,-89,4]"
   ]
  },
  {
   "cell_type": "code",
   "execution_count": 33,
   "metadata": {},
   "outputs": [],
   "source": [
    "def sort_list(input_list):\n",
    "    if(len(input_list) == 2): \n",
    "        if(input_list[0]<input_list[1]):\n",
    "            return input_list\n",
    "        else:\n",
    "            return [input_list[1], input_list[0]]\n",
    "    elif(len(input_list) == 1):\n",
    "        return input_list\n",
    "    else:\n",
    "        A = input_list[:int(len(input_list)/2)]\n",
    "        B = input_list[int(len(input_list)/2):]\n",
    "        i = 0\n",
    "        j = 0\n",
    "        A = sort_list(A)\n",
    "        B = sort_list(B)\n",
    "        result = []\n",
    "        for k in range(len(input_list)):\n",
    "            if(i<len(A) and j<len(B)): # 两个列表都没有结束的时候，比较后取值\n",
    "                if(A[i]<=B[j]):\n",
    "                    result.append(A[i])\n",
    "                    i+=1\n",
    "                else:\n",
    "                    result.append(B[j])\n",
    "                    j+=1\n",
    "            elif(i<len(A) and j==len(B)): # 其中一个列表已经结束，只需要把另一个列表的后续部分赋值给result即可\n",
    "                result.append(A[i])\n",
    "                i+=1\n",
    "            elif(j<len(B) and i==len(A)):\n",
    "                result.append(B[j])\n",
    "                j+=1\n",
    "        return result"
   ]
  },
  {
   "cell_type": "code",
   "execution_count": 34,
   "metadata": {},
   "outputs": [
    {
     "data": {
      "text/plain": [
       "[-89, 0, 1, 4, 4, 5, 9, 34, 43, 87, 90, 456]"
      ]
     },
     "execution_count": 34,
     "metadata": {},
     "output_type": "execute_result"
    }
   ],
   "source": [
    "sort_list(to_sort)"
   ]
  },
  {
   "cell_type": "code",
   "execution_count": null,
   "metadata": {},
   "outputs": [],
   "source": []
  }
 ],
 "metadata": {
  "kernelspec": {
   "display_name": "Python 3",
   "language": "python",
   "name": "python3"
  },
  "language_info": {
   "codemirror_mode": {
    "name": "ipython",
    "version": 3
   },
   "file_extension": ".py",
   "mimetype": "text/x-python",
   "name": "python",
   "nbconvert_exporter": "python",
   "pygments_lexer": "ipython3",
   "version": "3.7.3"
  }
 },
 "nbformat": 4,
 "nbformat_minor": 2
}
